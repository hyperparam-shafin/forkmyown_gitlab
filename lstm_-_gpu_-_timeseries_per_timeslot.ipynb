{
 "cells": [
  {
   "cell_type": "code",
   "execution_count": 31,
   "metadata": {},
   "outputs": [],
   "source": [
    "import pandas as pd\n",
    "import datetime\n",
    "import numpy as np\n",
    "from sqlalchemy import create_engine\n",
    "import pymysql\n",
    "from keras.models import Sequential\n",
    "from keras.layers import Dense\n",
    "from keras.layers import LSTM\n",
    "from sklearn.preprocessing import MinMaxScaler\n",
    "from collections import OrderedDict\n",
    "import boto3"
   ]
  },
  {
   "cell_type": "code",
   "execution_count": 32,
   "metadata": {},
   "outputs": [],
   "source": [
    "# convert time series into supervised learning problem\n",
    "def series_to_supervised(data, n_in=1, n_out=1, dropnan=True):\n",
    "    n_vars = 1 if type(data) is list else data.shape[1]\n",
    "    df = pd.DataFrame(data)\n",
    "    cols, names = list(), list()\n",
    "    # input sequence (t-n, ... t-1)\n",
    "    for i in range(n_in, 0, -1):\n",
    "        cols.append(df.shift(i))\n",
    "        names += [('var%d(t-%d)' % (j + 1, i)) for j in range(n_vars)]\n",
    "    # forecast sequence (t, t+1, ... t+n)\n",
    "    for i in range(0, n_out):\n",
    "        cols.append(df.shift(-i))\n",
    "        if i == 0:\n",
    "            names += [('var%d(t)' % (j + 1)) for j in range(n_vars)]\n",
    "        else:\n",
    "            names += [('var%d(t+%d)' % (j + 1, i)) for j in range(n_vars)]\n",
    "    # put it all together\n",
    "    agg = pd.concat(cols, axis=1)\n",
    "    agg.columns = names\n",
    "    # drop rows with NaN values\n",
    "    if dropnan:\n",
    "        agg.dropna(inplace=True)\n",
    "    return agg\n"
   ]
  },
  {
   "cell_type": "code",
   "execution_count": 33,
   "metadata": {},
   "outputs": [],
   "source": [
    "# normalize the dataset\n",
    "def prepare_data(series, n_lag, n_seq):\n",
    "    # extract raw values\n",
    "    raw_values = series.values\n",
    "\n",
    "    # rescale values to -1, 1\n",
    "    scaler = MinMaxScaler(feature_range=(-1, 1))\n",
    "    scaled_values = scaler.fit_transform(raw_values)\n",
    "    scaled_values = scaled_values.reshape(len(scaled_values), 1)\n",
    "\n",
    "    # transform into supervised learning problem X, y\n",
    "    supervised = series_to_supervised(scaled_values, n_lag, n_seq)\n",
    "    supervised_values = supervised.values\n",
    "\n",
    "    return scaler, supervised_values"
   ]
  },
  {
   "cell_type": "code",
   "execution_count": 34,
   "metadata": {},
   "outputs": [],
   "source": [
    "# create an LSTM network to training data\n",
    "def create_lstm(X, y, n_lag, n_seq, n_batch, n_neurons):\n",
    "    # design network\n",
    "    model = Sequential()\n",
    "    model.add(LSTM(n_neurons, batch_input_shape=(n_batch, X.shape[1], X.shape[2]), stateful=True))\n",
    "    model.add(Dense(y.shape[1]))\n",
    "    model.compile(loss='mean_squared_error', optimizer='adam')\n",
    "    return model"
   ]
  },
  {
   "cell_type": "code",
   "execution_count": 35,
   "metadata": {},
   "outputs": [],
   "source": [
    "def fit_lstm(nb_epoch, model, n_batch):\n",
    "    # fit network - reset state between epochs\n",
    "    for i in range(nb_epoch):\n",
    "        model.fit(X, y, epochs=1, batch_size=n_batch, verbose=1, shuffle=False)\n",
    "        model.reset_states()"
   ]
  },
  {
   "cell_type": "code",
   "execution_count": 36,
   "metadata": {},
   "outputs": [],
   "source": [
    "# make one forecast with an LSTM,\n",
    "def forecast_lstm(model, X, n_batch):\n",
    "    # make forecast\n",
    "    forecast = model.predict(X, batch_size=n_batch)\n",
    "    model.reset_states()\n",
    "    # convert to array\n",
    "    return [x for x in forecast[0, :]]"
   ]
  },
  {
   "cell_type": "code",
   "execution_count": 37,
   "metadata": {},
   "outputs": [],
   "source": [
    "# inverse data transform on forecasts\n",
    "def inverse_transform(series, forecast, scaler):\n",
    "    # create array from forecast\n",
    "    forecast = np.array(forecast)\n",
    "    forecast = forecast.reshape(1, -1)\n",
    "\n",
    "    # invert scaling\n",
    "    inv_scale = np.exp(scaler.inverse_transform(forecast))\n",
    "    inv_scale = inv_scale[0, :]\n",
    "\n",
    "    return inv_scale"
   ]
  },
  {
   "cell_type": "code",
   "execution_count": 38,
   "metadata": {},
   "outputs": [],
   "source": [
    "def extrapolate_timeslots(start_date, num_days=1):\n",
    "    \"\"\"Extrapolate the forecast dates and timeslots and return dataframe with forecast_dates and timeslots\"\"\"\n",
    "\n",
    "    timeslots_per_day = 96\n",
    "    forecast_dates = []\n",
    "    timeslots = []\n",
    "\n",
    "    for days in range(1, num_days + 1):\n",
    "        forecast_dates = forecast_dates + [(start_date + datetime.timedelta(days=days)).date()] * timeslots_per_day\n",
    "        timeslots = timeslots + list(range(1, timeslots_per_day + 1))\n",
    "\n",
    "    dictionary = {\n",
    "        \"forecast_date\": forecast_dates,\n",
    "        \"timeslot\": timeslots\n",
    "    }\n",
    "\n",
    "    return pd.DataFrame.from_dict(dictionary)"
   ]
  },
  {
   "cell_type": "code",
   "execution_count": 39,
   "metadata": {},
   "outputs": [],
   "source": [
    "db_host = \"yieldmanagement.c2jaydssljuc.us-west-2.rds.amazonaws.com\"\n",
    "db_username = \"ymdsmaster\"\n",
    "db_password = \"YieLDMgMt36\"\n",
    "db_name = \"yieldmanagement\"\n",
    "db_port = \"6174\"\n",
    "\n",
    "conn = create_engine('mysql+pymysql://' + db_username + ':' + db_password + '@' + db_host + ':' + db_port + '/' + db_name, echo=False)\n",
    "\n",
    "start_date = '2017-07-01'\n",
    "end_date = '2017-12-31'\n",
    "channel = 'ESPN'\n",
    "network_number = \"33\"  # This is ESPN"
   ]
  },
  {
   "cell_type": "code",
   "execution_count": 40,
   "metadata": {},
   "outputs": [],
   "source": [
    "query = (\n",
    "    \"SELECT network_label, start_time,start_date,household_impressions, timeslot FROM yieldmanagement.rentrak_impressions_old where start_date BETWEEN '\" + start_date + \"' AND '\" + end_date +\"' AND network_label IN ('\" + channel + \"') ORDER BY network_label, start_time;\")\n",
    "\n",
    "series = pd.read_sql(query, con=conn)\n",
    "\n",
    "#series.set_index(keys=['start_time'], drop=False, inplace=True)\n",
    "series.reset_index()\n",
    "series.set_index(keys=['start_date'],drop=False,inplace=True)\n",
    "series.drop(['network_label', 'start_time','start_date'], axis=1, inplace=True)\n"
   ]
  },
  {
   "cell_type": "code",
   "execution_count": 41,
   "metadata": {},
   "outputs": [
    {
     "name": "stdout",
     "output_type": "stream",
     "text": [
      "('series shape', (17664, 2))\n",
      "('series columns', Index([u'household_impressions', u'timeslot'], dtype='object'))\n"
     ]
    },
    {
     "data": {
      "text/html": [
       "<div>\n",
       "<style>\n",
       "    .dataframe thead tr:only-child th {\n",
       "        text-align: right;\n",
       "    }\n",
       "\n",
       "    .dataframe thead th {\n",
       "        text-align: left;\n",
       "    }\n",
       "\n",
       "    .dataframe tbody tr th {\n",
       "        vertical-align: top;\n",
       "    }\n",
       "</style>\n",
       "<table border=\"1\" class=\"dataframe\">\n",
       "  <thead>\n",
       "    <tr style=\"text-align: right;\">\n",
       "      <th></th>\n",
       "      <th>household_impressions</th>\n",
       "      <th>timeslot</th>\n",
       "    </tr>\n",
       "    <tr>\n",
       "      <th>start_date</th>\n",
       "      <th></th>\n",
       "      <th></th>\n",
       "    </tr>\n",
       "  </thead>\n",
       "  <tbody>\n",
       "    <tr>\n",
       "      <th>2017-07-01</th>\n",
       "      <td>45365</td>\n",
       "      <td>1</td>\n",
       "    </tr>\n",
       "    <tr>\n",
       "      <th>2017-07-01</th>\n",
       "      <td>43367</td>\n",
       "      <td>2</td>\n",
       "    </tr>\n",
       "    <tr>\n",
       "      <th>2017-07-01</th>\n",
       "      <td>42509</td>\n",
       "      <td>3</td>\n",
       "    </tr>\n",
       "    <tr>\n",
       "      <th>2017-07-01</th>\n",
       "      <td>39906</td>\n",
       "      <td>4</td>\n",
       "    </tr>\n",
       "    <tr>\n",
       "      <th>2017-07-01</th>\n",
       "      <td>42388</td>\n",
       "      <td>5</td>\n",
       "    </tr>\n",
       "  </tbody>\n",
       "</table>\n",
       "</div>"
      ],
      "text/plain": [
       "            household_impressions  timeslot\n",
       "start_date                                 \n",
       "2017-07-01                  45365         1\n",
       "2017-07-01                  43367         2\n",
       "2017-07-01                  42509         3\n",
       "2017-07-01                  39906         4\n",
       "2017-07-01                  42388         5"
      ]
     },
     "execution_count": 41,
     "metadata": {},
     "output_type": "execute_result"
    }
   ],
   "source": [
    "print(\"series shape\", series.shape) \n",
    "print(\"series columns\", series.columns)\n",
    "series.head()"
   ]
  },
  {
   "cell_type": "code",
   "execution_count": 42,
   "metadata": {},
   "outputs": [],
   "source": [
    "series.head()\n",
    "series = series.pivot(columns='timeslot')"
   ]
  },
  {
   "cell_type": "code",
   "execution_count": 43,
   "metadata": {},
   "outputs": [],
   "source": [
    "data = series.iloc[:,0:2]"
   ]
  },
  {
   "cell_type": "code",
   "execution_count": 44,
   "metadata": {},
   "outputs": [
    {
     "data": {
      "text/html": [
       "<div>\n",
       "<style>\n",
       "    .dataframe thead tr:only-child th {\n",
       "        text-align: right;\n",
       "    }\n",
       "\n",
       "    .dataframe thead th {\n",
       "        text-align: left;\n",
       "    }\n",
       "\n",
       "    .dataframe tbody tr th {\n",
       "        vertical-align: top;\n",
       "    }\n",
       "</style>\n",
       "<table border=\"1\" class=\"dataframe\">\n",
       "  <thead>\n",
       "    <tr>\n",
       "      <th></th>\n",
       "      <th colspan=\"2\" halign=\"left\">household_impressions</th>\n",
       "    </tr>\n",
       "    <tr>\n",
       "      <th>timeslot</th>\n",
       "      <th>1</th>\n",
       "      <th>2</th>\n",
       "    </tr>\n",
       "    <tr>\n",
       "      <th>start_date</th>\n",
       "      <th></th>\n",
       "      <th></th>\n",
       "    </tr>\n",
       "  </thead>\n",
       "  <tbody>\n",
       "    <tr>\n",
       "      <th>2017-07-01</th>\n",
       "      <td>45365</td>\n",
       "      <td>43367</td>\n",
       "    </tr>\n",
       "    <tr>\n",
       "      <th>2017-07-02</th>\n",
       "      <td>180097</td>\n",
       "      <td>182934</td>\n",
       "    </tr>\n",
       "    <tr>\n",
       "      <th>2017-07-03</th>\n",
       "      <td>78902</td>\n",
       "      <td>69084</td>\n",
       "    </tr>\n",
       "    <tr>\n",
       "      <th>2017-07-04</th>\n",
       "      <td>92381</td>\n",
       "      <td>78948</td>\n",
       "    </tr>\n",
       "    <tr>\n",
       "      <th>2017-07-05</th>\n",
       "      <td>65659</td>\n",
       "      <td>61542</td>\n",
       "    </tr>\n",
       "  </tbody>\n",
       "</table>\n",
       "</div>"
      ],
      "text/plain": [
       "           household_impressions        \n",
       "timeslot                       1       2\n",
       "start_date                              \n",
       "2017-07-01                 45365   43367\n",
       "2017-07-02                180097  182934\n",
       "2017-07-03                 78902   69084\n",
       "2017-07-04                 92381   78948\n",
       "2017-07-05                 65659   61542"
      ]
     },
     "execution_count": 44,
     "metadata": {},
     "output_type": "execute_result"
    }
   ],
   "source": [
    "data.head()"
   ]
  },
  {
   "cell_type": "code",
   "execution_count": 45,
   "metadata": {},
   "outputs": [],
   "source": [
    "values = data.values"
   ]
  },
  {
   "cell_type": "code",
   "execution_count": 46,
   "metadata": {},
   "outputs": [
    {
     "data": {
      "text/plain": [
       "(184, 2)"
      ]
     },
     "execution_count": 46,
     "metadata": {},
     "output_type": "execute_result"
    }
   ],
   "source": [
    "values.shape"
   ]
  },
  {
   "cell_type": "code",
   "execution_count": 63,
   "metadata": {},
   "outputs": [
    {
     "data": {
      "text/html": [
       "<div>\n",
       "<style>\n",
       "    .dataframe thead tr:only-child th {\n",
       "        text-align: right;\n",
       "    }\n",
       "\n",
       "    .dataframe thead th {\n",
       "        text-align: left;\n",
       "    }\n",
       "\n",
       "    .dataframe tbody tr th {\n",
       "        vertical-align: top;\n",
       "    }\n",
       "</style>\n",
       "<table border=\"1\" class=\"dataframe\">\n",
       "  <thead>\n",
       "    <tr>\n",
       "      <th></th>\n",
       "      <th colspan=\"2\" halign=\"left\">household_impressions</th>\n",
       "    </tr>\n",
       "    <tr>\n",
       "      <th>timeslot</th>\n",
       "      <th>1</th>\n",
       "      <th>2</th>\n",
       "    </tr>\n",
       "    <tr>\n",
       "      <th>start_date</th>\n",
       "      <th></th>\n",
       "      <th></th>\n",
       "    </tr>\n",
       "  </thead>\n",
       "  <tbody>\n",
       "    <tr>\n",
       "      <th>2017-07-01</th>\n",
       "      <td>45365</td>\n",
       "      <td>43367</td>\n",
       "    </tr>\n",
       "    <tr>\n",
       "      <th>2017-07-02</th>\n",
       "      <td>180097</td>\n",
       "      <td>182934</td>\n",
       "    </tr>\n",
       "    <tr>\n",
       "      <th>2017-07-03</th>\n",
       "      <td>78902</td>\n",
       "      <td>69084</td>\n",
       "    </tr>\n",
       "    <tr>\n",
       "      <th>2017-07-04</th>\n",
       "      <td>92381</td>\n",
       "      <td>78948</td>\n",
       "    </tr>\n",
       "    <tr>\n",
       "      <th>2017-07-05</th>\n",
       "      <td>65659</td>\n",
       "      <td>61542</td>\n",
       "    </tr>\n",
       "  </tbody>\n",
       "</table>\n",
       "</div>"
      ],
      "text/plain": [
       "           household_impressions        \n",
       "timeslot                       1       2\n",
       "start_date                              \n",
       "2017-07-01                 45365   43367\n",
       "2017-07-02                180097  182934\n",
       "2017-07-03                 78902   69084\n",
       "2017-07-04                 92381   78948\n",
       "2017-07-05                 65659   61542"
      ]
     },
     "execution_count": 63,
     "metadata": {},
     "output_type": "execute_result"
    }
   ],
   "source": [
    "data.head()"
   ]
  },
  {
   "cell_type": "code",
   "execution_count": 64,
   "metadata": {},
   "outputs": [
    {
     "data": {
      "text/html": [
       "<div>\n",
       "<style>\n",
       "    .dataframe thead tr:only-child th {\n",
       "        text-align: right;\n",
       "    }\n",
       "\n",
       "    .dataframe thead th {\n",
       "        text-align: left;\n",
       "    }\n",
       "\n",
       "    .dataframe tbody tr th {\n",
       "        vertical-align: top;\n",
       "    }\n",
       "</style>\n",
       "<table border=\"1\" class=\"dataframe\">\n",
       "  <thead>\n",
       "    <tr style=\"text-align: right;\">\n",
       "      <th></th>\n",
       "      <th>var1(t-1)</th>\n",
       "      <th>var2(t-1)</th>\n",
       "      <th>var1(t)</th>\n",
       "      <th>var2(t)</th>\n",
       "      <th>var1(t+1)</th>\n",
       "      <th>var2(t+1)</th>\n",
       "      <th>var1(t+2)</th>\n",
       "      <th>var2(t+2)</th>\n",
       "    </tr>\n",
       "  </thead>\n",
       "  <tbody>\n",
       "    <tr>\n",
       "      <th>1</th>\n",
       "      <td>45365.0</td>\n",
       "      <td>43367.0</td>\n",
       "      <td>180097</td>\n",
       "      <td>182934</td>\n",
       "      <td>78902.0</td>\n",
       "      <td>69084.0</td>\n",
       "      <td>92381.0</td>\n",
       "      <td>78948.0</td>\n",
       "    </tr>\n",
       "    <tr>\n",
       "      <th>2</th>\n",
       "      <td>180097.0</td>\n",
       "      <td>182934.0</td>\n",
       "      <td>78902</td>\n",
       "      <td>69084</td>\n",
       "      <td>92381.0</td>\n",
       "      <td>78948.0</td>\n",
       "      <td>65659.0</td>\n",
       "      <td>61542.0</td>\n",
       "    </tr>\n",
       "    <tr>\n",
       "      <th>3</th>\n",
       "      <td>78902.0</td>\n",
       "      <td>69084.0</td>\n",
       "      <td>92381</td>\n",
       "      <td>78948</td>\n",
       "      <td>65659.0</td>\n",
       "      <td>61542.0</td>\n",
       "      <td>55148.0</td>\n",
       "      <td>49327.0</td>\n",
       "    </tr>\n",
       "    <tr>\n",
       "      <th>4</th>\n",
       "      <td>92381.0</td>\n",
       "      <td>78948.0</td>\n",
       "      <td>65659</td>\n",
       "      <td>61542</td>\n",
       "      <td>55148.0</td>\n",
       "      <td>49327.0</td>\n",
       "      <td>50932.0</td>\n",
       "      <td>46587.0</td>\n",
       "    </tr>\n",
       "    <tr>\n",
       "      <th>5</th>\n",
       "      <td>65659.0</td>\n",
       "      <td>61542.0</td>\n",
       "      <td>55148</td>\n",
       "      <td>49327</td>\n",
       "      <td>50932.0</td>\n",
       "      <td>46587.0</td>\n",
       "      <td>55319.0</td>\n",
       "      <td>50486.0</td>\n",
       "    </tr>\n",
       "  </tbody>\n",
       "</table>\n",
       "</div>"
      ],
      "text/plain": [
       "   var1(t-1)  var2(t-1)  var1(t)  var2(t)  var1(t+1)  var2(t+1)  var1(t+2)  \\\n",
       "1    45365.0    43367.0   180097   182934    78902.0    69084.0    92381.0   \n",
       "2   180097.0   182934.0    78902    69084    92381.0    78948.0    65659.0   \n",
       "3    78902.0    69084.0    92381    78948    65659.0    61542.0    55148.0   \n",
       "4    92381.0    78948.0    65659    61542    55148.0    49327.0    50932.0   \n",
       "5    65659.0    61542.0    55148    49327    50932.0    46587.0    55319.0   \n",
       "\n",
       "   var2(t+2)  \n",
       "1    78948.0  \n",
       "2    61542.0  \n",
       "3    49327.0  \n",
       "4    46587.0  \n",
       "5    50486.0  "
      ]
     },
     "execution_count": 64,
     "metadata": {},
     "output_type": "execute_result"
    }
   ],
   "source": [
    "df.head()"
   ]
  },
  {
   "cell_type": "code",
   "execution_count": 47,
   "metadata": {},
   "outputs": [],
   "source": [
    "df = series_to_supervised(values,1,3)"
   ]
  },
  {
   "cell_type": "code",
   "execution_count": 48,
   "metadata": {},
   "outputs": [
    {
     "data": {
      "text/html": [
       "<div>\n",
       "<style>\n",
       "    .dataframe thead tr:only-child th {\n",
       "        text-align: right;\n",
       "    }\n",
       "\n",
       "    .dataframe thead th {\n",
       "        text-align: left;\n",
       "    }\n",
       "\n",
       "    .dataframe tbody tr th {\n",
       "        vertical-align: top;\n",
       "    }\n",
       "</style>\n",
       "<table border=\"1\" class=\"dataframe\">\n",
       "  <thead>\n",
       "    <tr style=\"text-align: right;\">\n",
       "      <th></th>\n",
       "      <th>var1(t-1)</th>\n",
       "      <th>var2(t-1)</th>\n",
       "      <th>var1(t)</th>\n",
       "      <th>var2(t)</th>\n",
       "      <th>var1(t+1)</th>\n",
       "      <th>var2(t+1)</th>\n",
       "      <th>var1(t+2)</th>\n",
       "      <th>var2(t+2)</th>\n",
       "    </tr>\n",
       "  </thead>\n",
       "  <tbody>\n",
       "    <tr>\n",
       "      <th>1</th>\n",
       "      <td>45365.0</td>\n",
       "      <td>43367.0</td>\n",
       "      <td>180097</td>\n",
       "      <td>182934</td>\n",
       "      <td>78902.0</td>\n",
       "      <td>69084.0</td>\n",
       "      <td>92381.0</td>\n",
       "      <td>78948.0</td>\n",
       "    </tr>\n",
       "    <tr>\n",
       "      <th>2</th>\n",
       "      <td>180097.0</td>\n",
       "      <td>182934.0</td>\n",
       "      <td>78902</td>\n",
       "      <td>69084</td>\n",
       "      <td>92381.0</td>\n",
       "      <td>78948.0</td>\n",
       "      <td>65659.0</td>\n",
       "      <td>61542.0</td>\n",
       "    </tr>\n",
       "    <tr>\n",
       "      <th>3</th>\n",
       "      <td>78902.0</td>\n",
       "      <td>69084.0</td>\n",
       "      <td>92381</td>\n",
       "      <td>78948</td>\n",
       "      <td>65659.0</td>\n",
       "      <td>61542.0</td>\n",
       "      <td>55148.0</td>\n",
       "      <td>49327.0</td>\n",
       "    </tr>\n",
       "    <tr>\n",
       "      <th>4</th>\n",
       "      <td>92381.0</td>\n",
       "      <td>78948.0</td>\n",
       "      <td>65659</td>\n",
       "      <td>61542</td>\n",
       "      <td>55148.0</td>\n",
       "      <td>49327.0</td>\n",
       "      <td>50932.0</td>\n",
       "      <td>46587.0</td>\n",
       "    </tr>\n",
       "    <tr>\n",
       "      <th>5</th>\n",
       "      <td>65659.0</td>\n",
       "      <td>61542.0</td>\n",
       "      <td>55148</td>\n",
       "      <td>49327</td>\n",
       "      <td>50932.0</td>\n",
       "      <td>46587.0</td>\n",
       "      <td>55319.0</td>\n",
       "      <td>50486.0</td>\n",
       "    </tr>\n",
       "  </tbody>\n",
       "</table>\n",
       "</div>"
      ],
      "text/plain": [
       "   var1(t-1)  var2(t-1)  var1(t)  var2(t)  var1(t+1)  var2(t+1)  var1(t+2)  \\\n",
       "1    45365.0    43367.0   180097   182934    78902.0    69084.0    92381.0   \n",
       "2   180097.0   182934.0    78902    69084    92381.0    78948.0    65659.0   \n",
       "3    78902.0    69084.0    92381    78948    65659.0    61542.0    55148.0   \n",
       "4    92381.0    78948.0    65659    61542    55148.0    49327.0    50932.0   \n",
       "5    65659.0    61542.0    55148    49327    50932.0    46587.0    55319.0   \n",
       "\n",
       "   var2(t+2)  \n",
       "1    78948.0  \n",
       "2    61542.0  \n",
       "3    49327.0  \n",
       "4    46587.0  \n",
       "5    50486.0  "
      ]
     },
     "execution_count": 48,
     "metadata": {},
     "output_type": "execute_result"
    }
   ],
   "source": [
    "df.head()"
   ]
  },
  {
   "cell_type": "code",
   "execution_count": 49,
   "metadata": {},
   "outputs": [],
   "source": [
    "n_lag = 1\n",
    "n_seq = 3\n",
    "n_test =10"
   ]
  },
  {
   "cell_type": "code",
   "execution_count": 68,
   "metadata": {},
   "outputs": [],
   "source": [
    "def prepare_data1(series, n_test, n_lag, n_seq):\n",
    "    # extract raw values\n",
    "    raw_values = series.values\n",
    "    raw_values = raw_values.reshape(len(raw_values), 2)\n",
    "    # transform into supervised learning problem X, y010\n",
    "    supervised = series_to_supervised(raw_values, n_lag, n_seq)\n",
    "    supervised_values = supervised.values\n",
    "    # split into train and test sets\n",
    "    train, test = supervised_values[0:-n_test], supervised_values[-n_test:]\n",
    "    return train, test"
   ]
  },
  {
   "cell_type": "code",
   "execution_count": 76,
   "metadata": {},
   "outputs": [],
   "source": [
    "train,test = prepare_data1(data,n_test,n_lag,n_seq)"
   ]
  },
  {
   "cell_type": "code",
   "execution_count": 77,
   "metadata": {},
   "outputs": [
    {
     "data": {
      "text/plain": [
       "(171, 8)"
      ]
     },
     "execution_count": 77,
     "metadata": {},
     "output_type": "execute_result"
    }
   ],
   "source": [
    "train.shape"
   ]
  },
  {
   "cell_type": "code",
   "execution_count": 78,
   "metadata": {},
   "outputs": [
    {
     "data": {
      "text/plain": [
       "(10, 8)"
      ]
     },
     "execution_count": 78,
     "metadata": {},
     "output_type": "execute_result"
    }
   ],
   "source": [
    "test.shape"
   ]
  },
  {
   "cell_type": "code",
   "execution_count": 81,
   "metadata": {},
   "outputs": [],
   "source": [
    "X_train, y_train = train[:,0:2], train[:,2:]\n",
    "X_test, y_test = test[:,0:2], test[:,2:]"
   ]
  },
  {
   "cell_type": "code",
   "execution_count": 82,
   "metadata": {},
   "outputs": [],
   "source": [
    "X_train = X_train.reshape(X_train.shape[0],1,X_train.shape[1])\n",
    "X_test = X_test.reshape(X_test.shape[0],1,X_test.shape[1])"
   ]
  },
  {
   "cell_type": "code",
   "execution_count": 89,
   "metadata": {},
   "outputs": [
    {
     "name": "stdout",
     "output_type": "stream",
     "text": [
      "X_train Shape: (171, 1, 2)\n",
      "X_test Shape: (10, 1, 2)\n"
     ]
    }
   ],
   "source": [
    "print(\"X_train Shape: \"+str(X_train.shape))\n",
    "print(\"X_test Shape: \"+str(X_test.shape))"
   ]
  },
  {
   "cell_type": "code",
   "execution_count": 98,
   "metadata": {},
   "outputs": [],
   "source": [
    "# Variables for the LSTM model\n",
    "n_batch = 1\n",
    "nb_epoch = 2\n",
    "n_neurons = 128\n",
    "\n",
    "# Creating the LSTM model\n",
    "model = Sequential()\n",
    "model.add(LSTM(n_neurons, batch_input_shape=(n_batch, X_train.shape[1], X_train.shape[2]), stateful=True, return_sequences=True))\n",
    "model.add(LSTM(500))\n",
    "model.add(Dense(y_train.shape[1]))\n",
    "model.compile(loss='mean_squared_error', optimizer='adam',metrics=['accuracy'])\n"
   ]
  },
  {
   "cell_type": "code",
   "execution_count": 99,
   "metadata": {},
   "outputs": [
    {
     "name": "stdout",
     "output_type": "stream",
     "text": [
      "Epoch 1/10\n",
      "171/171 [==============================] - 3s - loss: 18520420848.2807 - acc: 0.0000e+00     \n",
      "Epoch 2/10\n",
      "171/171 [==============================] - 2s - loss: 18507318620.0702 - acc: 0.0058     \n",
      "Epoch 3/10\n",
      "171/171 [==============================] - 2s - loss: 18496191391.4386 - acc: 0.0058     \n",
      "Epoch 4/10\n",
      "171/171 [==============================] - 2s - loss: 18485330649.8246 - acc: 0.0058     \n",
      "Epoch 5/10\n",
      "171/171 [==============================] - 2s - loss: 18474592746.2924 - acc: 0.0058     \n",
      "Epoch 6/10\n",
      "171/171 [==============================] - 2s - loss: 18463927766.0819 - acc: 0.0058     \n",
      "Epoch 7/10\n",
      "171/171 [==============================] - 2s - loss: 18453312363.0409 - acc: 0.0058     \n",
      "Epoch 8/10\n",
      "171/171 [==============================] - 2s - loss: 18442732912.2807 - acc: 0.0058     \n",
      "Epoch 9/10\n",
      "171/171 [==============================] - 2s - loss: 18432181761.4971 - acc: 0.0058     \n",
      "Epoch 10/10\n",
      "171/171 [==============================] - 2s - loss: 18421653908.9591 - acc: 0.0058     \n"
     ]
    },
    {
     "data": {
      "text/plain": [
       "<keras.callbacks.History at 0x7ff7824f8550>"
      ]
     },
     "execution_count": 99,
     "metadata": {},
     "output_type": "execute_result"
    }
   ],
   "source": [
    "model.fit(X_train, y_train, epochs=10, batch_size=n_batch, verbose=1, shuffle=False)"
   ]
  },
  {
   "cell_type": "code",
   "execution_count": 100,
   "metadata": {},
   "outputs": [],
   "source": [
    "forecast = model.predict(X_test, batch_size=n_batch)"
   ]
  },
  {
   "cell_type": "code",
   "execution_count": 102,
   "metadata": {},
   "outputs": [
    {
     "data": {
      "text/plain": [
       "array([[  83520.,   75734.,   85466.,   78397.,   92250.,   83728.],\n",
       "       [  85466.,   78397.,   92250.,   83728.,  171923.,  165819.],\n",
       "       [  92250.,   83728.,  171923.,  165819.,  105952.,  100245.],\n",
       "       [ 171923.,  165819.,  105952.,  100245.,  195689.,  163366.],\n",
       "       [ 105952.,  100245.,  195689.,  163366.,  360417.,  286445.],\n",
       "       [ 195689.,  163366.,  360417.,  286445.,  275068.,  211802.],\n",
       "       [ 360417.,  286445.,  275068.,  211802.,  300847.,  291940.],\n",
       "       [ 275068.,  211802.,  300847.,  291940.,  430185.,  438421.],\n",
       "       [ 300847.,  291940.,  430185.,  438421.,  568304.,  403368.],\n",
       "       [ 430185.,  438421.,  568304.,  403368.,  392774.,  339257.]])"
      ]
     },
     "execution_count": 102,
     "metadata": {},
     "output_type": "execute_result"
    }
   ],
   "source": [
    "y_test"
   ]
  },
  {
   "cell_type": "code",
   "execution_count": 103,
   "metadata": {},
   "outputs": [
    {
     "data": {
      "text/plain": [
       "array([[ 540.1416626 ,  552.71087646,  538.10894775,  548.9128418 ,\n",
       "         537.76245117,  545.99719238],\n",
       "       [ 540.14276123,  552.71185303,  538.10986328,  548.91387939,\n",
       "         537.76342773,  545.99822998],\n",
       "       [ 540.14276123,  552.71185303,  538.10986328,  548.91387939,\n",
       "         537.76342773,  545.99822998],\n",
       "       [ 540.14276123,  552.71185303,  538.10986328,  548.91387939,\n",
       "         537.76342773,  545.99822998],\n",
       "       [ 540.14276123,  552.71185303,  538.10986328,  548.91387939,\n",
       "         537.76342773,  545.99822998],\n",
       "       [ 540.14276123,  552.71185303,  538.10986328,  548.91387939,\n",
       "         537.76342773,  545.99822998],\n",
       "       [ 540.14239502,  552.71142578,  538.10955811,  548.91339111,\n",
       "         537.76312256,  545.99786377],\n",
       "       [ 540.14294434,  552.71209717,  538.11016846,  548.91412354,\n",
       "         537.76367188,  545.99847412],\n",
       "       [ 540.14324951,  552.71240234,  538.1104126 ,  548.91442871,\n",
       "         537.76403809,  545.99865723],\n",
       "       [ 540.14160156,  552.71063232,  538.10876465,  548.91259766,\n",
       "         537.7623291 ,  545.99694824]], dtype=float32)"
      ]
     },
     "execution_count": 103,
     "metadata": {},
     "output_type": "execute_result"
    }
   ],
   "source": [
    "forecast"
   ]
  },
  {
   "cell_type": "code",
   "execution_count": null,
   "metadata": {},
   "outputs": [],
   "source": []
  }
 ],
 "metadata": {
  "kernelspec": {
   "display_name": "Python [conda env:tensorflow_p27]",
   "language": "python",
   "name": "conda-env-tensorflow_p27-py"
  },
  "language_info": {
   "codemirror_mode": {
    "name": "ipython",
    "version": 2
   },
   "file_extension": ".py",
   "mimetype": "text/x-python",
   "name": "python",
   "nbconvert_exporter": "python",
   "pygments_lexer": "ipython2",
   "version": "2.7.14"
  }
 },
 "nbformat": 4,
 "nbformat_minor": 2
}
